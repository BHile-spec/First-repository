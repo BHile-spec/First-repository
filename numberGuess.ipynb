{
 "cells": [
  {
   "cell_type": "code",
   "execution_count": null,
   "id": "04a0cb9c-5377-4d54-af64-59bdc4900331",
   "metadata": {},
   "outputs": [],
   "source": [
    "#brian hile 2024\n",
    "# Assigning initial values\n",
    "guess_me = 7\n",
    "number = 1\n",
    "\n",
    "# While loop to compare number with guess_me\n",
    "while number <= guess_me:\n",
    "    if number < guess_me:\n",
    "        print('too low')\n",
    "    elif number == guess_me:\n",
    "        print('found it!')\n",
    "        break  # Exit the loop when number equals guess_me\n",
    "    else:\n",
    "        print('oops')\n",
    "        break  # Exit the loop when number is greater than guess_me\n",
    "    \n",
    "    number += 1  # Increment number at the end of each iteration\n",
    "\n"
   ]
  }
 ],
 "metadata": {
  "kernelspec": {
   "display_name": "Python 3 (ipykernel)",
   "language": "python",
   "name": "python3"
  },
  "language_info": {
   "codemirror_mode": {
    "name": "ipython",
    "version": 3
   },
   "file_extension": ".py",
   "mimetype": "text/x-python",
   "name": "python",
   "nbconvert_exporter": "python",
   "pygments_lexer": "ipython3",
   "version": "3.11.7"
  }
 },
 "nbformat": 4,
 "nbformat_minor": 5
}
