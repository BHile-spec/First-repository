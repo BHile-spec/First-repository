{
 "cells": [
  {
   "cell_type": "code",
   "execution_count": null,
   "id": "04606313-0bb2-48e9-b304-161b0ebd39df",
   "metadata": {},
   "outputs": [],
   "source": [
    "#brian hile 2024\n",
    "# Given choices and their corresponding True/False values\n",
    "choices = {\n",
    "    'cherry': (True, False),\n",
    "    'pea': (True, True),\n",
    "    'watermelon': (False, False),\n",
    "    'pumpkin': (False, True)\n",
    "}\n",
    "\n",
    "# Example choice\n",
    "small = True\n",
    "green = False\n",
    "\n",
    "# Check which choice matches the given values of small and green\n",
    "for choice, (is_small, is_green) in choices.items():\n",
    "    if is_small == small and is_green == green:\n",
    "        print(f\"{choice.capitalize()} matches (small={small}, green={green})\")\n"
   ]
  }
 ],
 "metadata": {
  "kernelspec": {
   "display_name": "Python 3 (ipykernel)",
   "language": "python",
   "name": "python3"
  },
  "language_info": {
   "codemirror_mode": {
    "name": "ipython",
    "version": 3
   },
   "file_extension": ".py",
   "mimetype": "text/x-python",
   "name": "python",
   "nbconvert_exporter": "python",
   "pygments_lexer": "ipython3",
   "version": "3.11.7"
  }
 },
 "nbformat": 4,
 "nbformat_minor": 5
}
