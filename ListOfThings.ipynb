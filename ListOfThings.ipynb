{
 "cells": [
  {
   "cell_type": "code",
   "execution_count": 2,
   "id": "467691a3-729f-4ae3-8e05-e22f0b31c463",
   "metadata": {},
   "outputs": [
    {
     "name": "stdout",
     "output_type": "stream",
     "text": [
      "['MOZZARELLA', 'Cinderella']\n"
     ]
    }
   ],
   "source": [
    "#list of things for this example \n",
    "things = [\"mozzarella\", \"cinderella\", \"salmonella\"]\n",
    "#finds the index of \"cinderella\" in the list\n",
    "index_cinderella = things.index(\"cinderella\")\n",
    "#finds mozzerlla in the list\n",
    "index_mozzarella = things.index(\"mozzarella\")\n",
    "# Find the index of \"salmonella\" in the list\n",
    "index_salmonella = things.index(\"salmonella\")\n",
    "\n",
    "#capitalize the word at that index\n",
    "things[index_cinderella] = things[index_cinderella].capitalize()\n",
    "# Convert the word at that index to uppercase\n",
    "things[index_mozzarella] = things[index_mozzarella].upper()\n",
    "#Deletes the element of salmon at that index\n",
    "del things[index_salmonella]\n",
    "\n",
    "#this prints the modified list\n",
    "print(things)"
   ]
  },
  {
   "cell_type": "code",
   "execution_count": null,
   "id": "078c6d28-5113-4f63-b215-11dd0f77787c",
   "metadata": {},
   "outputs": [],
   "source": []
  }
 ],
 "metadata": {
  "kernelspec": {
   "display_name": "Python 3 (ipykernel)",
   "language": "python",
   "name": "python3"
  },
  "language_info": {
   "codemirror_mode": {
    "name": "ipython",
    "version": 3
   },
   "file_extension": ".py",
   "mimetype": "text/x-python",
   "name": "python",
   "nbconvert_exporter": "python",
   "pygments_lexer": "ipython3",
   "version": "3.11.7"
  }
 },
 "nbformat": 4,
 "nbformat_minor": 5
}
