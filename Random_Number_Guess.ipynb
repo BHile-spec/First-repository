{
 "cells": [
  {
   "cell_type": "code",
   "execution_count": 2,
   "id": "0ee4a830-fbc4-4594-8cba-8e895be6ec59",
   "metadata": {},
   "outputs": [
    {
     "name": "stdout",
     "output_type": "stream",
     "text": [
      "Too low\n"
     ]
    }
   ],
   "source": [
    "import random\n",
    "\n",
    "# Step 1: Choose a secret number between 1 and 10\n",
    "secret = random.randint(1, 10)\n",
    "\n",
    "# Step 2: Choose a guess number between 1 and 10 (for testing purposes)\n",
    "guess = random.randint(1, 10)\n",
    "\n",
    "# Step 3: Write conditional tests to check the guess\n",
    "if guess < secret:\n",
    "    print(\"Too low\")\n",
    "elif guess > secret:\n",
    "    print(\"Too high\")\n",
    "else:\n",
    "    print(\"Just right\")\n"
   ]
  }
 ],
 "metadata": {
  "kernelspec": {
   "display_name": "Python 3 (ipykernel)",
   "language": "python",
   "name": "python3"
  },
  "language_info": {
   "codemirror_mode": {
    "name": "ipython",
    "version": 3
   },
   "file_extension": ".py",
   "mimetype": "text/x-python",
   "name": "python",
   "nbconvert_exporter": "python",
   "pygments_lexer": "ipython3",
   "version": "3.11.7"
  }
 },
 "nbformat": 4,
 "nbformat_minor": 5
}
